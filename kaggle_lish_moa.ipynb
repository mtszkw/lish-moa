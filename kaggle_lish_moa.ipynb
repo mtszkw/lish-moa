{
  "nbformat": 4,
  "nbformat_minor": 0,
  "metadata": {
    "colab": {
      "name": "kaggle-lish-moa.ipynb",
      "provenance": [],
      "authorship_tag": "ABX9TyMmgS73WJr01MM6AtoQaKB4",
      "include_colab_link": true
    },
    "kernelspec": {
      "name": "python3",
      "display_name": "Python 3"
    }
  },
  "cells": [
    {
      "cell_type": "markdown",
      "metadata": {
        "id": "view-in-github",
        "colab_type": "text"
      },
      "source": [
        "<a href=\"https://colab.research.google.com/github/mtszkw/kaggle-lish-moa/blob/main/kaggle_lish_moa.ipynb\" target=\"_parent\"><img src=\"https://colab.research.google.com/assets/colab-badge.svg\" alt=\"Open In Colab\"/></a>"
      ]
    },
    {
      "cell_type": "code",
      "metadata": {
        "id": "V2LI1MDpMAl-",
        "outputId": "02df1b34-52df-43ca-eaf4-5c7c53bbaf7d",
        "colab": {
          "base_uri": "https://localhost:8080/"
        }
      },
      "source": [
        "import os\n",
        "\n",
        "!pip install --upgrade kaggle\n",
        "\n",
        "%env KAGGLE_USERNAME=mtszkw\n",
        "%env KAGGLE_KEY=4542560feb261d28dd30710ffc95cb41\n",
        "\n",
        "if not os.path.exists('lish-moa'):\n",
        "    !kaggle competitions download -c lish-moa\n",
        "    !unzip -q /content/train_features.csv.zip\n",
        "    !unzip -q /content/test_features.csv.zip\n",
        "    !unzip -q /content/train_targets_scored.csv.zip\n",
        "    !unzip -q /content/train_targets_nonscored.csv.zip\n",
        "    "
      ],
      "execution_count": 1,
      "outputs": [
        {
          "output_type": "stream",
          "text": [
            "Requirement already up-to-date: kaggle in /usr/local/lib/python3.6/dist-packages (1.5.9)\n",
            "Requirement already satisfied, skipping upgrade: six>=1.10 in /usr/local/lib/python3.6/dist-packages (from kaggle) (1.15.0)\n",
            "Requirement already satisfied, skipping upgrade: requests in /usr/local/lib/python3.6/dist-packages (from kaggle) (2.23.0)\n",
            "Requirement already satisfied, skipping upgrade: certifi in /usr/local/lib/python3.6/dist-packages (from kaggle) (2020.6.20)\n",
            "Requirement already satisfied, skipping upgrade: python-slugify in /usr/local/lib/python3.6/dist-packages (from kaggle) (4.0.1)\n",
            "Requirement already satisfied, skipping upgrade: tqdm in /usr/local/lib/python3.6/dist-packages (from kaggle) (4.41.1)\n",
            "Requirement already satisfied, skipping upgrade: slugify in /usr/local/lib/python3.6/dist-packages (from kaggle) (0.0.1)\n",
            "Requirement already satisfied, skipping upgrade: urllib3 in /usr/local/lib/python3.6/dist-packages (from kaggle) (1.24.3)\n",
            "Requirement already satisfied, skipping upgrade: python-dateutil in /usr/local/lib/python3.6/dist-packages (from kaggle) (2.8.1)\n",
            "Requirement already satisfied, skipping upgrade: chardet<4,>=3.0.2 in /usr/local/lib/python3.6/dist-packages (from requests->kaggle) (3.0.4)\n",
            "Requirement already satisfied, skipping upgrade: idna<3,>=2.5 in /usr/local/lib/python3.6/dist-packages (from requests->kaggle) (2.10)\n",
            "Requirement already satisfied, skipping upgrade: text-unidecode>=1.3 in /usr/local/lib/python3.6/dist-packages (from python-slugify->kaggle) (1.3)\n",
            "env: KAGGLE_USERNAME=mtszkw\n",
            "env: KAGGLE_KEY=4542560feb261d28dd30710ffc95cb41\n",
            "Warning: Looks like you're using an outdated API Version, please consider updating (server 1.5.9 / client 1.5.4)\n",
            "Downloading test_features.csv.zip to /content\n",
            " 87% 8.00M/9.16M [00:00<00:00, 81.2MB/s]\n",
            "100% 9.16M/9.16M [00:00<00:00, 58.7MB/s]\n",
            "Downloading train_drug.csv to /content\n",
            "  0% 0.00/535k [00:00<?, ?B/s]\n",
            "100% 535k/535k [00:00<00:00, 76.3MB/s]\n",
            "Downloading train_targets_nonscored.csv.zip to /content\n",
            "  0% 0.00/233k [00:00<?, ?B/s]\n",
            "100% 233k/233k [00:00<00:00, 31.1MB/s]\n",
            "Downloading train_features.csv.zip to /content\n",
            " 89% 49.0M/54.8M [00:03<00:00, 7.16MB/s]\n",
            "100% 54.8M/54.8M [00:03<00:00, 17.8MB/s]\n",
            "Downloading train_targets_scored.csv.zip to /content\n",
            "  0% 0.00/257k [00:00<?, ?B/s]\n",
            "100% 257k/257k [00:00<00:00, 85.8MB/s]\n",
            "Downloading sample_submission.csv.zip to /content\n",
            "  0% 0.00/38.9k [00:00<?, ?B/s]\n",
            "100% 38.9k/38.9k [00:00<00:00, 12.1MB/s]\n"
          ],
          "name": "stdout"
        }
      ]
    },
    {
      "cell_type": "code",
      "metadata": {
        "id": "mjOYYqgSUx7a",
        "outputId": "26f04585-40de-48e1-c51f-f81c7f414911",
        "colab": {
          "base_uri": "https://localhost:8080/"
        }
      },
      "source": [
        "os.listdir('/content')"
      ],
      "execution_count": 4,
      "outputs": [
        {
          "output_type": "execute_result",
          "data": {
            "text/plain": [
              "['.config',\n",
              " 'test_features.csv.zip',\n",
              " 'sample_submission.csv.zip',\n",
              " 'train_features.csv.zip',\n",
              " 'train_targets_scored.csv.zip',\n",
              " 'train_drug.csv',\n",
              " 'train_targets_nonscored.csv.zip',\n",
              " 'sample_data']"
            ]
          },
          "metadata": {
            "tags": []
          },
          "execution_count": 4
        }
      ]
    }
  ]
}