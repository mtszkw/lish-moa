{
  "nbformat": 4,
  "nbformat_minor": 0,
  "metadata": {
    "colab": {
      "name": "kaggle-lish-moa.ipynb",
      "provenance": [],
      "authorship_tag": "ABX9TyNz/j8YKx2AtT6e4i8QbLFJ",
      "include_colab_link": true
    },
    "kernelspec": {
      "name": "python3",
      "display_name": "Python 3"
    }
  },
  "cells": [
    {
      "cell_type": "markdown",
      "metadata": {
        "id": "view-in-github",
        "colab_type": "text"
      },
      "source": [
        "<a href=\"https://colab.research.google.com/github/mtszkw/kaggle-lish-moa/blob/main/kaggle_lish_moa.ipynb\" target=\"_parent\"><img src=\"https://colab.research.google.com/assets/colab-badge.svg\" alt=\"Open In Colab\"/></a>"
      ]
    },
    {
      "cell_type": "code",
      "metadata": {
        "id": "jfVT12jAxw3T"
      },
      "source": [
        "input_dir = '/content/'\n",
        "# input_dir = '../input/lish-moa'"
      ],
      "execution_count": 1,
      "outputs": []
    },
    {
      "cell_type": "code",
      "metadata": {
        "id": "V2LI1MDpMAl-",
        "outputId": "7511ec53-4965-4632-9fef-ce34e85f250e",
        "colab": {
          "base_uri": "https://localhost:8080/"
        }
      },
      "source": [
        "# https://www.kaggle.com/yasufuminakama/moa-pytorch-nn-starter\n",
        "\n",
        "import os\n",
        "import sys\n",
        "\n",
        "!pip -q install --upgrade kaggle\n",
        "\n",
        "%env KAGGLE_USERNAME=mtszkw\n",
        "%env KAGGLE_KEY=4542560feb261d28dd30710ffc95cb41\n",
        "\n",
        "# Dataset\n",
        "# https://www.kaggle.com/c/lish-moa\n",
        "!kaggle competitions download -c lish-moa\n",
        "\n",
        "# iterative-stratification\n",
        "# https://www.kaggle.com/yasufuminakama/iterative-stratification\n",
        "!kaggle datasets download -d yasufuminakama/iterative-stratification\n",
        "\n",
        "!unzip -q '/content/*.zip'\n",
        "\n",
        "for x in os.listdir('/content'):\n",
        "    if x.endswith(\".zip\"):\n",
        "        os.remove(os.path.join('/content', x))\n",
        "\n",
        "os.listdir('/content')"
      ],
      "execution_count": 2,
      "outputs": [
        {
          "output_type": "stream",
          "text": [
            "env: KAGGLE_USERNAME=mtszkw\n",
            "env: KAGGLE_KEY=4542560feb261d28dd30710ffc95cb41\n",
            "Warning: Looks like you're using an outdated API Version, please consider updating (server 1.5.9 / client 1.5.4)\n",
            "Downloading test_features.csv.zip to /content\n",
            " 98% 9.00M/9.16M [00:00<00:00, 14.3MB/s]\n",
            "100% 9.16M/9.16M [00:00<00:00, 11.1MB/s]\n",
            "Downloading sample_submission.csv.zip to /content\n",
            "  0% 0.00/38.9k [00:00<?, ?B/s]\n",
            "100% 38.9k/38.9k [00:00<00:00, 40.0MB/s]\n",
            "Downloading train_drug.csv to /content\n",
            "  0% 0.00/535k [00:00<?, ?B/s]\n",
            "100% 535k/535k [00:00<00:00, 75.0MB/s]\n",
            "Downloading train_features.csv.zip to /content\n",
            " 86% 47.0M/54.8M [00:00<00:00, 33.7MB/s]\n",
            "100% 54.8M/54.8M [00:00<00:00, 62.7MB/s]\n",
            "Downloading train_targets_scored.csv.zip to /content\n",
            "  0% 0.00/257k [00:00<?, ?B/s]\n",
            "100% 257k/257k [00:00<00:00, 76.8MB/s]\n",
            "Downloading train_targets_nonscored.csv.zip to /content\n",
            "  0% 0.00/233k [00:00<?, ?B/s]\n",
            "100% 233k/233k [00:00<00:00, 76.8MB/s]\n",
            "Downloading iterative-stratification.zip to /content\n",
            "  0% 0.00/10.8k [00:00<?, ?B/s]\n",
            "100% 10.8k/10.8k [00:00<00:00, 18.6MB/s]\n",
            "\n",
            "6 archives were successfully processed.\n"
          ],
          "name": "stdout"
        },
        {
          "output_type": "execute_result",
          "data": {
            "text/plain": [
              "['.config',\n",
              " 'train_targets_scored.csv',\n",
              " 'train_targets_nonscored.csv',\n",
              " 'iterative-stratification-master',\n",
              " 'test_features.csv',\n",
              " 'train_features.csv',\n",
              " 'train_drug.csv',\n",
              " 'sample_submission.csv',\n",
              " 'sample_data']"
            ]
          },
          "metadata": {
            "tags": []
          },
          "execution_count": 2
        }
      ]
    },
    {
      "cell_type": "code",
      "metadata": {
        "id": "nWnQcBddwEV-",
        "outputId": "098d7755-6647-4410-e46e-d5b5763bee12",
        "colab": {
          "base_uri": "https://localhost:8080/"
        }
      },
      "source": [
        "import numpy as np\n",
        "import pandas as pd\n",
        "from typing import Optional\n",
        "\n",
        "from sklearn.metrics import log_loss\n",
        "from sklearn.model_selection import StratifiedKFold, GroupKFold, KFold\n",
        "\n",
        "import torch\n",
        "import torch.nn as nn\n",
        "import torch.nn.functional as F\n",
        "\n",
        "!pip -q install pytorch-lightning\n",
        "import pytorch_lightning as pl\n",
        "\n",
        "!pip -q install '/content/iterative-stratification-master'\n",
        "from iterstrat.ml_stratifiers import MultilabelStratifiedKFold"
      ],
      "execution_count": 10,
      "outputs": [
        {
          "output_type": "stream",
          "text": [
            "  Building wheel for iterative-stratification (setup.py) ... \u001b[?25l\u001b[?25hdone\n"
          ],
          "name": "stdout"
        }
      ]
    },
    {
      "cell_type": "code",
      "metadata": {
        "id": "a78vQK2UwWKt",
        "outputId": "98e1e2fd-9e3d-41a7-dde2-c8e212454f4f",
        "colab": {
          "base_uri": "https://localhost:8080/"
        }
      },
      "source": [
        "train_features = pd.read_csv(os.path.join(input_dir, 'train_features.csv'))\n",
        "train_targets_scored = pd.read_csv(os.path.join(input_dir, 'train_targets_scored.csv'))\n",
        "# train_targets_nonscored = pd.read_csv(os.path.join(input_dir, 'train_targets_nonscored.csv'))\n",
        "test_features = pd.read_csv(os.path.join(input_dir, 'test_features.csv'))\n",
        "# submission = pd.read_csv(os.path.join(input_dir, 'sample_submission.csv'))\n",
        "\n",
        "print(f'Train: {train_features.shape}, test: {test_features.shape}')"
      ],
      "execution_count": 11,
      "outputs": [
        {
          "output_type": "stream",
          "text": [
            "Train: (23814, 876), test: (3982, 876)\n"
          ],
          "name": "stdout"
        }
      ]
    },
    {
      "cell_type": "markdown",
      "metadata": {
        "id": "1e1uAJ0bEtRn"
      },
      "source": [
        "### Dataset"
      ]
    },
    {
      "cell_type": "code",
      "metadata": {
        "id": "Q3NoPaWSI74T"
      },
      "source": [
        "class MoATrainDataset(torch.utils.data.Dataset):\n",
        "    def __init__(self, features, targets):\n",
        "        self.features = features\n",
        "        self.targets = targets\n",
        "\n",
        "    def __len__(self):\n",
        "        return len(self.features)\n",
        "\n",
        "    def __getitem__(self, idx):\n",
        "        return self.features[idx], self.targets[idx]"
      ],
      "execution_count": 15,
      "outputs": []
    },
    {
      "cell_type": "code",
      "metadata": {
        "id": "p6b-b2SjWrHr"
      },
      "source": [
        "class MoATestDataset(torch.utils.data.Dataset):\n",
        "    def __init__(self, features):\n",
        "        self.features = features\n",
        "\n",
        "    def __len__(self):\n",
        "        return len(self.features)\n",
        "\n",
        "    def __getitem__(self, idx):\n",
        "        X = self.features[idx]\n",
        "        return X"
      ],
      "execution_count": null,
      "outputs": []
    },
    {
      "cell_type": "code",
      "metadata": {
        "id": "8ziomhlpEtUu"
      },
      "source": [
        "class MoADataModule(pl.LightningDataModule):\n",
        "    def __init__(self, batch_size, train_ds, valid_ds, test_ds):\n",
        "        super().__init__()\n",
        "        self.batch_size = batch_size\n",
        "        self.train_ds = train_ds\n",
        "        self.valid_ds = valid_ds\n",
        "        self.test_ds = test_ds\n",
        "\n",
        "    def setup(self, stage: Optional[str] = None):\n",
        "        if stage == 'fit' or stage is None:\n",
        "            pass\n",
        "        if stage == 'test' or stage is None:\n",
        "            pass\n",
        "\n",
        "    def train_dataloader(self):\n",
        "        return torch.utils.data.DataLoader(\n",
        "            self.train_ds, shuffle=False, batch_size=self.batch_size)\n",
        "\n",
        "    def valid_dataloader(self):\n",
        "        return torch.utils.data.DataLoader(\n",
        "            self.valid_ds, shuffle=False,  batch_size=self.batch_size)\n",
        "\n",
        "    def test_dataloader(self):\n",
        "        return torch.utils.data.DataLoader(\n",
        "            self.test_ds, shuffle=False, batch_size=self.batch_size)\n",
        "        "
      ],
      "execution_count": 16,
      "outputs": []
    },
    {
      "cell_type": "markdown",
      "metadata": {
        "id": "b9nwasp5GtqL"
      },
      "source": [
        "### Model"
      ]
    },
    {
      "cell_type": "code",
      "metadata": {
        "id": "2mieXo2wGLsv"
      },
      "source": [
        "class MoANeuralNetwork(pl.LightningModule):\n",
        "    def __init__(self, input_size, output_size):\n",
        "        super().__init__()\n",
        "        self.net = self.get_model(input_size, output_size)\n",
        "\n",
        "    def get_model(self, input_size, output_size):\n",
        "        dropout = .5\n",
        "        hidden_size = 512\n",
        "\n",
        "        return nn.Sequential(\n",
        "            nn.Linear(input_size, hidden_size),\n",
        "            nn.BatchNorm1d(hidden_size),\n",
        "            nn.Dropout(dropout),\n",
        "            nn.PReLU(),\n",
        "            nn.Linear(hidden_size, hidden_size),\n",
        "            nn.BatchNorm1d(hidden_size),\n",
        "            nn.Dropout(dropout),\n",
        "            nn.PReLU(),\n",
        "            nn.Linear(hidden_size, output_size))\n",
        "\n",
        "    def configure_optimizers(self):\n",
        "        optimizer = torch.optim.Adam(self.net.parameters(), lr=0.01, weight_decay=1e-4)\n",
        "        scheduler = optim.lr_scheduler.StepLR(optimizer, step_size=5, gamma=0.5)\n",
        "        return [optimizer], [scheduler]\n",
        "\n",
        "    def forward(self, x):\n",
        "        return self.net(x)\n",
        "\n",
        "    def training_step(self, batch, batch_idx):\n",
        "        x, y = batch\n",
        "        y_hat = self.forward(x)\n",
        "        loss = torch.nn.BCEWithLogitsLoss()(y_hat, y)\n",
        "\n",
        "        self.log_dict({'loss': loss})\n",
        "        return loss\n",
        "\n",
        "    def validation_step(self, batch, batch_idx):\n",
        "        x, y = batch\n",
        "        y_hat = self.forward(x)\n",
        "        loss = torch.nn.BCEWithLogitsLoss()(y_hat, y)\n",
        "\n",
        "        self.log_dict({'val_loss': loss})\n",
        "        return loss\n"
      ],
      "execution_count": 19,
      "outputs": []
    },
    {
      "cell_type": "markdown",
      "metadata": {
        "id": "rYrpUwaEIbUe"
      },
      "source": [
        "### Training"
      ]
    },
    {
      "cell_type": "code",
      "metadata": {
        "id": "BwJdpmGrWEZZ"
      },
      "source": [
        "target_cols = [c for c in train_targets_scored.columns if c not in ['sig_id']]\n",
        "# print(len(target_cols))\n",
        "# target_cols\n",
        "\n",
        "# ref: https://www.kaggle.com/c/lish-moa/discussion/180165\n",
        "# check if labels for 'ctl_vehicle' are all 0.\n",
        "all_train = train_features.merge(train_targets_scored, on='sig_id')\n",
        "all_train = train[train['cp_type']!='ctl_vehicle'].reset_index(drop=True)\n",
        "all_test  = test_features[test_features['cp_type']!='ctl_vehicle'].reset_index(drop=True)\n",
        "\n",
        "print(f'Train: {all_train.shape}, test: {all_test.shape}')"
      ],
      "execution_count": null,
      "outputs": []
    },
    {
      "cell_type": "code",
      "metadata": {
        "id": "EE0yMCUwWUSa"
      },
      "source": [
        "# folds = all_train.copy()\n",
        "\n",
        "# k_fold = MultilabelStratifiedKFold(n_splits=5, shuffle=False, random_state=42)\n",
        "# for n, (train_index, val_index) in enumerate(k_fold.split(folds, folds[target_cols])):\n",
        "\n",
        "train_ds = MoATrainDataset(all_trainb)\n",
        "\n",
        "    # folds.loc[val_index, 'fold'] = int(n)\n",
        "# folds['fold'] = folds['fold'].astype(int)\n",
        "\n",
        "# folds.head()"
      ],
      "execution_count": null,
      "outputs": []
    },
    {
      "cell_type": "code",
      "metadata": {
        "id": "S0XPoGiCIUPE"
      },
      "source": [
        "trainer = pl.Trainer()\n",
        "\n",
        "dataset = \n",
        "model = MoANeuralNetwork()\n",
        "\n",
        "trainer.fit()"
      ],
      "execution_count": null,
      "outputs": []
    }
  ]
}